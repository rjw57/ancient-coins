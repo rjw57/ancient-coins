{
 "metadata": {
  "name": "coin_segment_4"
 },
 "nbformat": 3,
 "nbformat_minor": 0,
 "worksheets": [
  {
   "cells": [
    {
     "cell_type": "code",
     "collapsed": false,
     "input": [
      "%pylab\n",
      "\n",
      "import cv\n",
      "import cv2\n",
      "import scipy.ndimage as ndi\n",
      "import scipy.stats as stats\n",
      "import os\n",
      "\n",
      "from segment import Segment"
     ],
     "language": "python",
     "metadata": {},
     "outputs": [
      {
       "output_type": "stream",
       "stream": "stdout",
       "text": [
        "\n",
        "Welcome to pylab, a matplotlib-based Python environment [backend: Qt4Agg].\n",
        "For more information, type 'help(pylab)'.\n"
       ]
      },
      {
       "output_type": "stream",
       "stream": "stderr",
       "text": [
        "/usr/lib/python2.7/site-packages/matplotlib/__init__.py:921: UserWarning:  This call to matplotlib.use() has no effect\n",
        "because the the backend has already been chosen;\n",
        "matplotlib.use() must be called *before* pylab, matplotlib.pyplot,\n",
        "or matplotlib.backends is imported for the first time.\n",
        "\n",
        "  if warn: warnings.warn(_use_error_msg)\n"
       ]
      }
     ],
     "prompt_number": 4
    },
    {
     "cell_type": "code",
     "collapsed": false,
     "input": [
      "def load_image(path):\n",
      "    coin_color = cv2.imread(path)\n",
      "    coin_gray = cv2.cvtColor(coin_color, cv.CV_RGB2GRAY)\n",
      "    min_size = np.amin(coin_gray.shape)\n",
      "    scale = 512.0 / min_size\n",
      "    coin_gray = cv2.resize(coin_gray, (int(np.ceil(coin_gray.shape[1] * scale)), int(np.ceil(coin_gray.shape[0] * scale))))\n",
      "    return coin_gray\n",
      "    \n",
      "class CoinDescriptor(object):\n",
      "    def __init__(self, image):\n",
      "        self.segment = Segment()\n",
      "        self.segment.segment(image)\n",
      "        \n",
      "        edge_profile = np.array(self.segment.deviations[:,1], dtype=np.float32, copy=True)\n",
      "        edge_profile -= np.mean(edge_profile)\n",
      "        edge_profile /= np.std(edge_profile)\n",
      "        \n",
      "        self.edge_descriptor = np.abs(np.fft.fft(edge_profile))\n",
      "        \n",
      "        n_bands = 16\n",
      "        band_offset = self.segment.polar_image.shape[0] / n_bands\n",
      "        band_size = self.segment.polar_image.shape[0] / (n_bands >> 1)\n",
      "        \n",
      "        self.bands = []\n",
      "        for offset in range(0, self.segment.polar_image.shape[0], band_offset):\n",
      "            band = np.array(self.segment.polar_image[offset:(offset+band_size), :], dtype=np.float32, copy=True)\n",
      "            band -= np.mean(band)\n",
      "            band /= np.std(band)\n",
      "            band = np.abs(np.fft.fft2(band))\n",
      "            self.bands.append(band)\n",
      "            \n",
      "        im = np.array(self.segment.edge_image * 255, dtype=np.uint8)\n",
      "        #im = self.segment.input_image\n",
      "        \n",
      "        f = cv2.FeatureDetector_create(\"SURF\")\n",
      "        self.keypoints = f.detect(im, np.array(self.segment.edge_mask, dtype=np.uint8))\n",
      "        \n",
      "        d = cv2.DescriptorExtractor_create(\"SURF\")\n",
      "        self.keypoints, self.descriptors = d.compute(im, self.keypoints)\n",
      "\n",
      "d1 = CoinDescriptor(load_image('input/n847r1.jpg'))\n",
      "d2 = CoinDescriptor(load_image('input/n847r2.jpg'))\n",
      "d3 = CoinDescriptor(load_image('input/n847r3.jpg'))\n",
      "d4 = CoinDescriptor(load_image('input/n847r4.jpg'))\n",
      "d5 = CoinDescriptor(load_image('input/n847r5.jpg'))\n",
      "d6 = CoinDescriptor(load_image('input/n847r6.jpg'))\n",
      "d7 = CoinDescriptor(load_image('input/n262_rev_1.jpg'))\n",
      "d8 = CoinDescriptor(load_image('input/n262_rev_2.jpg'))\n",
      "d9 = CoinDescriptor(load_image('input/n262_rev_3.jpg'))\n",
      "print('Done')"
     ],
     "language": "python",
     "metadata": {},
     "outputs": [
      {
       "output_type": "stream",
       "stream": "stdout",
       "text": [
        "Done\n"
       ]
      }
     ],
     "prompt_number": 263
    },
    {
     "cell_type": "code",
     "collapsed": false,
     "input": [
      "A = d1\n",
      "B = d2\n",
      "\n",
      "m = cv2.DescriptorMatcher_create(\"BruteForce\")\n",
      "matches = m.knnMatch(B.descriptors, A.descriptors, 2)\n",
      "\n",
      "good_matches = []\n",
      "for m1, m2 in matches:\n",
      "    assert m1.distance <= m2.distance\n",
      "    if m1.distance <= 0.8 * m2.distance:\n",
      "        good_matches.append(m1)\n",
      "\n",
      "ndd = float(len(good_matches)) / float(len(A.descriptors))\n",
      "print(len(matches), len(good_matches), ndd)\n",
      "A_indices = np.array(list(m.trainIdx for m in good_matches))\n",
      "B_indices = np.array(list(m.queryIdx for m in good_matches))\n",
      "\n",
      "clf()\n",
      "imshow(np.hstack((A.segment.input_image, B.segment.input_image)), cmap='gray')\n",
      "for A_idx, B_idx in zip(A_indices, B_indices):\n",
      "    A_pt = A.keypoints[A_idx].pt\n",
      "    B_pt = B.keypoints[B_idx].pt\n",
      "    plot((A_pt[0], A.segment.input_image.shape[1] + B_pt[0]), (A_pt[1], B_pt[1]))\n",
      "\n",
      "Ap = np.array(list(x.pt for x in A.keypoints))\n",
      "Ap = Ap[A_indices, :]\n",
      "Bp = np.array(list(x.pt for x in B.keypoints))\n",
      "Bp = Bp[B_indices, :]\n",
      "\n",
      "plot(Ap[:,0], Ap[:,1], 'rx')\n",
      "plot(A.segment.input_image.shape[1] + Bp[:,0], Bp[:,1], 'rx')"
     ],
     "language": "python",
     "metadata": {},
     "outputs": [
      {
       "output_type": "stream",
       "stream": "stdout",
       "text": [
        "(1393, 64, 0.04110468850353243)\n"
       ]
      },
      {
       "output_type": "pyout",
       "prompt_number": 244,
       "text": [
        "[<matplotlib.lines.Line2D at 0xb035810>]"
       ]
      }
     ],
     "prompt_number": 244
    },
    {
     "cell_type": "code",
     "collapsed": false,
     "input": [
      "H, mask = cv2.findHomography(Ap, Bp, cv2.RANSAC, ransacReprojThreshold=4.0)\n",
      "print(np.sum(mask), len(mask))"
     ],
     "language": "python",
     "metadata": {},
     "outputs": [
      {
       "output_type": "stream",
       "stream": "stdout",
       "text": [
        "(7, 38)\n"
       ]
      }
     ],
     "prompt_number": 194
    },
    {
     "cell_type": "code",
     "collapsed": false,
     "input": [
      "len(good_matches)"
     ],
     "language": "python",
     "metadata": {},
     "outputs": [
      {
       "output_type": "pyout",
       "prompt_number": 195,
       "text": [
        "38"
       ]
      }
     ],
     "prompt_number": 195
    },
    {
     "cell_type": "code",
     "collapsed": false,
     "input": [
      "def similarity(d1, d2):\n",
      "    m = cv2.DescriptorMatcher_create(\"BruteForce\")\n",
      "    matches = m.knnMatch(d2.descriptors, d1.descriptors, 2)\n",
      "    \n",
      "    xcc = np.fft.ifft(d1.edge_descriptor * np.conjugate(d2.edge_descriptor))\n",
      "    ncc = np.amax(np.abs(xcc)) / float(len(xcc))\n",
      "    \n",
      "    alpha = 0.75\n",
      "    beta = 1.0 - alpha\n",
      "    \n",
      "    delta = np.abs(np.abs(d1.edge_descriptor) - np.abs(d2.edge_descriptor))\n",
      "    \n",
      "    sim = 1.0\n",
      "    \n",
      "    sim /= alpha * np.mean(delta[1:10]) + beta * (1 - ncc) / 2.0\n",
      "\n",
      "    good_matches = []\n",
      "    for m1, m2 in matches:\n",
      "        assert m1.distance <= m2.distance\n",
      "        if m1.distance <= 0.8 * m2.distance:\n",
      "            good_matches.append(m1)\n",
      "\n",
      "    sim *= float(2 * len(good_matches)) / float(len(d1.descriptors) + len(d2.descriptors))\n",
      "    \n",
      "    rv = sim\n",
      "\n",
      "    return rv"
     ],
     "language": "python",
     "metadata": {},
     "outputs": [],
     "prompt_number": 265
    },
    {
     "cell_type": "code",
     "collapsed": false,
     "input": [
      "d = [d1,d2,d3,d4,d5,d6,d7,d8]\n",
      "\n",
      "out = np.zeros((len(d), len(d)), dtype=np.float32)\n",
      "for ai, a in enumerate(d):\n",
      "    print(ai)\n",
      "    for bi, b in enumerate(d):\n",
      "        if ai == bi:\n",
      "            continue\n",
      "        out[ai,bi] = similarity(a,b)\n",
      "print('Done')\n",
      "clf()\n",
      "imshow(out, interpolation='Nearest')"
     ],
     "language": "python",
     "metadata": {},
     "outputs": [
      {
       "output_type": "stream",
       "stream": "stdout",
       "text": [
        "0\n",
        "1"
       ]
      },
      {
       "output_type": "stream",
       "stream": "stdout",
       "text": [
        "\n",
        "2"
       ]
      },
      {
       "output_type": "stream",
       "stream": "stdout",
       "text": [
        "\n",
        "3"
       ]
      },
      {
       "output_type": "stream",
       "stream": "stdout",
       "text": [
        "\n",
        "4"
       ]
      },
      {
       "output_type": "stream",
       "stream": "stdout",
       "text": [
        "\n",
        "5"
       ]
      },
      {
       "output_type": "stream",
       "stream": "stdout",
       "text": [
        "\n",
        "6"
       ]
      },
      {
       "output_type": "stream",
       "stream": "stdout",
       "text": [
        "\n",
        "7"
       ]
      },
      {
       "output_type": "stream",
       "stream": "stdout",
       "text": [
        "\n",
        "8"
       ]
      },
      {
       "output_type": "stream",
       "stream": "stdout",
       "text": [
        "\n",
        "Done"
       ]
      },
      {
       "output_type": "stream",
       "stream": "stdout",
       "text": [
        "\n"
       ]
      },
      {
       "output_type": "pyout",
       "prompt_number": 246,
       "text": [
        "<matplotlib.image.AxesImage at 0x35dbf90>"
       ]
      }
     ],
     "prompt_number": 246
    },
    {
     "cell_type": "code",
     "collapsed": false,
     "input": [
      "d = [d2,d3,d4,d5,d6,d7,d8]\n",
      "s1 = list(similarity(d1, dsc) for dsc in d)\n",
      "s2 = list(similarity(d9, dsc) for dsc in d)\n",
      "clf()\n",
      "bar(range(len(s1)), s1, fc=(0,0,0.5), alpha=0.5)\n",
      "bar(range(len(s2)), s2, fc=(0,0.5,0), alpha=0.5)"
     ],
     "language": "python",
     "metadata": {},
     "outputs": [
      {
       "output_type": "pyout",
       "prompt_number": 268,
       "text": [
        "<Container object of 7 artists>"
       ]
      }
     ],
     "prompt_number": 268
    },
    {
     "cell_type": "code",
     "collapsed": false,
     "input": [
      "similarity(d1, d9)"
     ],
     "language": "python",
     "metadata": {},
     "outputs": [
      {
       "output_type": "pyout",
       "prompt_number": 237,
       "text": [
        "0.00016659460555191159"
       ]
      }
     ],
     "prompt_number": 237
    },
    {
     "cell_type": "code",
     "collapsed": false,
     "input": [
      "imshow(np.log(1e-6 + out), interpolation='Nearest')"
     ],
     "language": "python",
     "metadata": {},
     "outputs": [
      {
       "output_type": "pyout",
       "prompt_number": 232,
       "text": [
        "<matplotlib.image.AxesImage at 0x58481d0>"
       ]
      }
     ],
     "prompt_number": 232
    },
    {
     "cell_type": "code",
     "collapsed": false,
     "input": [
      "\n",
      "\n",
      "clf()\n",
      "subplot(211)\n",
      "imshow(np.log(np.vstack(d.bands)))\n",
      "subplot(212)\n",
      "plot(np.log(d.edge_descriptor))"
     ],
     "language": "python",
     "metadata": {},
     "outputs": [
      {
       "output_type": "pyout",
       "prompt_number": 89,
       "text": [
        "[<matplotlib.lines.Line2D at 0x7ffc490>]"
       ]
      }
     ],
     "prompt_number": 89
    },
    {
     "cell_type": "code",
     "collapsed": false,
     "input": [],
     "language": "python",
     "metadata": {},
     "outputs": [],
     "prompt_number": 130
    }
   ],
   "metadata": {}
  }
 ]
}