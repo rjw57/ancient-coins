{
 "metadata": {
  "name": "coin_segment_3"
 },
 "nbformat": 3,
 "nbformat_minor": 0,
 "worksheets": [
  {
   "cells": [
    {
     "cell_type": "code",
     "collapsed": false,
     "input": [
      "%pylab\n",
      "\n",
      "import cv\n",
      "import cv2\n",
      "import scipy.ndimage as ndi\n",
      "import scipy.stats as stats\n",
      "import os\n",
      "\n",
      "from segment import Segment"
     ],
     "language": "python",
     "metadata": {},
     "outputs": [
      {
       "output_type": "stream",
       "stream": "stdout",
       "text": [
        "\n",
        "Welcome to pylab, a matplotlib-based Python environment [backend: Qt4Agg].\n",
        "For more information, type 'help(pylab)'.\n"
       ]
      }
     ],
     "prompt_number": 86
    },
    {
     "cell_type": "code",
     "collapsed": false,
     "input": [
      "input_file_name = 'input/coin7.jpg'\n",
      "coin_color = cv2.imread(input_file_name)\n",
      "coin_gray = cv2.cvtColor(coin_color, cv.CV_RGB2GRAY)\n",
      "\n",
      "min_size = np.amin(coin_gray.shape)\n",
      "scale = 512.0 / min_size\n",
      "coin_gray = cv2.resize(coin_gray, (int(np.ceil(coin_gray.shape[1] * scale)), int(np.ceil(coin_gray.shape[0] * scale))))"
     ],
     "language": "python",
     "metadata": {},
     "outputs": [],
     "prompt_number": 87
    },
    {
     "cell_type": "code",
     "collapsed": false,
     "input": [
      "seg = Segment()\n",
      "seg.segment(coin_gray)\n",
      "print('Segment threshold: %s' % seg.edge_threshold)\n",
      "print('Segment form factor: %s' % seg.edge_form_factor)"
     ],
     "language": "python",
     "metadata": {},
     "outputs": [
      {
       "output_type": "stream",
       "stream": "stdout",
       "text": [
        "Segment threshold: 0.05\n",
        "Segment form factor: 0.877487901897\n"
       ]
      }
     ],
     "prompt_number": 88
    },
    {
     "cell_type": "code",
     "collapsed": false,
     "input": [
      "clf()\n",
      "#imshow(seg.edge_mask)\n",
      "imshow(seg.input_image, cmap='gray')\n",
      "fill(seg.edge[:,0], seg.edge[:,1], lw=2, closed=True, fill=False, ec=(0,0,1))\n",
      "\n",
      "thetas = np.linspace(0.0, 2.0*np.pi, 256, endpoint=False)\n",
      "x = np.cos(thetas) * seg.radius + seg.centre[0]\n",
      "y = np.sin(thetas) * seg.radius + seg.centre[1]\n",
      "fill(x, y, lw=2, closed=True, fill=False, ec=(1,0,0))\n",
      "\n",
      "axis('image')"
     ],
     "language": "python",
     "metadata": {},
     "outputs": [
      {
       "output_type": "pyout",
       "prompt_number": 89,
       "text": [
        "(-0.5, 511.5, 526.5, -0.5)"
       ]
      }
     ],
     "prompt_number": 89
    },
    {
     "cell_type": "code",
     "collapsed": false,
     "input": [
      "clf()\n",
      "plot(seg.deviations[:,0], seg.deviations[:,1])"
     ],
     "language": "python",
     "metadata": {},
     "outputs": [
      {
       "output_type": "pyout",
       "prompt_number": 90,
       "text": [
        "[<matplotlib.lines.Line2D at 0x5091b50>]"
       ]
      }
     ],
     "prompt_number": 90
    },
    {
     "cell_type": "code",
     "collapsed": false,
     "input": [
      "# Work out dimensions of remapped imae\n",
      "polar_shape = (128, 512)\n",
      "# Get angle and radius image\n",
      "phi, r = np.meshgrid(\n",
      "    np.linspace(2.0*np.pi, 0, polar_shape[1], endpoint=False),\n",
      "    np.linspace(np.ceil(seg.radius), 0, polar_shape[0])\n",
      ")\n",
      "# Compute X- and Y- image\n",
      "x = np.array(seg.centre[0] + np.sin(phi) * r, dtype=np.float32)\n",
      "y = np.array(seg.centre[1] + np.cos(phi) * r, dtype=np.float32)"
     ],
     "language": "python",
     "metadata": {},
     "outputs": [],
     "prompt_number": 91
    },
    {
     "cell_type": "code",
     "collapsed": false,
     "input": [
      "coin_smooth = cv2.blur(coin_gray, (5,5))\n",
      "coin_edge = cv2.Laplacian(coin_smooth, 8)\n",
      "coin_edge -= np.amin(coin_edge)\n",
      "coin_edge = coin_edge / float(np.amax(coin_edge))"
     ],
     "language": "python",
     "metadata": {},
     "outputs": [],
     "prompt_number": 92
    },
    {
     "cell_type": "code",
     "collapsed": false,
     "input": [
      "coin_polar = cv2.remap(coin_edge, x, y, cv2.INTER_LINEAR)"
     ],
     "language": "python",
     "metadata": {},
     "outputs": [],
     "prompt_number": 93
    },
    {
     "cell_type": "code",
     "collapsed": false,
     "input": [
      "clf()\n",
      "# Show contour\n",
      "subplot2grid((3,3), (0,0))\n",
      "imshow(coin_gray, cmap='gray')\n",
      "#fill(seg.edge[:,0], seg.edge[:,1], lw=0, fc=(0,0.5,0), alpha=0.5, closed=True)\n",
      "#fill(seg.edge[:,0], seg.edge[:,1], lw=2, closed=True, fill=False, ec=(0,0,1))\n",
      "\n",
      "thetas = seg.deviations[:,0]\n",
      "x = np.cos(thetas) * seg.radius * seg.deviations[:,1] + seg.centre[0]\n",
      "y = np.sin(thetas) * seg.radius * seg.deviations[:,1] + seg.centre[1]\n",
      "fill(x, y, lw=2, closed=True, fill=False, ec=(0,0,1))\n",
      "\n",
      "axis('image')\n",
      "axis('off')\n",
      "title('Detected coin')\n",
      "\n",
      "# Show plar\n",
      "subplot2grid((3,3), (0,1), colspan=2)\n",
      "imshow(coin_polar, cmap='gray')\n",
      "axis('image')\n",
      "axis('off')\n",
      "title('Polar unwrap')\n",
      "\n",
      "# Show edge\n",
      "subplot2grid((3,3), (1,0), colspan=3)\n",
      "plot(seg.deviations[:,0], seg.deviations[:,1])\n",
      "ylabel('Relative offset')\n",
      "title('Edge profile')\n",
      "xlim((-np.pi, np.pi))\n",
      "\n",
      "# Show edge FFT\n",
      "subplot2grid((3,3), (2,0), colspan=3)\n",
      "F = np.fft.fft(seg.deviations[:,1])\n",
      "plot(np.fft.fftshift(np.log(np.abs(F*F))))\n",
      "xlim((0, len(F)))\n",
      "title('Edge power spectrum')\n",
      "\n",
      "output_filename = os.path.splitext(os.path.basename(input_file_name))[0] + '.detected.png'\n",
      "savefig(output_filename)"
     ],
     "language": "python",
     "metadata": {},
     "outputs": [],
     "prompt_number": 94
    },
    {
     "cell_type": "code",
     "collapsed": false,
     "input": [],
     "language": "python",
     "metadata": {},
     "outputs": [],
     "prompt_number": 94
    }
   ],
   "metadata": {}
  }
 ]
}