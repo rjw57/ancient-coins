{
 "metadata": {
  "name": "coin_find"
 },
 "nbformat": 3,
 "nbformat_minor": 0,
 "worksheets": [
  {
   "cells": [
    {
     "cell_type": "code",
     "collapsed": false,
     "input": [
      "import cv\n",
      "import cv2"
     ],
     "language": "python",
     "metadata": {},
     "outputs": [],
     "prompt_number": 1
    },
    {
     "cell_type": "code",
     "collapsed": false,
     "input": [
      "coin_color = cv2.imread('BethsaidaCoin1.jpg')\n",
      "coin_color = cv2.resize(coin_color, (512, 512))\n",
      "coin_gray = cv2.cvtColor(coin_color, cv.CV_RGB2GRAY)\n",
      "coin_blur = cv2.GaussianBlur(coin_gray, (9,9), 3)"
     ],
     "language": "python",
     "metadata": {},
     "outputs": [],
     "prompt_number": 90
    },
    {
     "cell_type": "code",
     "collapsed": false,
     "input": [
      "features = cv.ExtractSURF(cv.fromarray(coin_blur), None, cv.CreateMemStorage(), (0,1000,3,4))"
     ],
     "language": "python",
     "metadata": {},
     "outputs": [],
     "prompt_number": 91
    },
    {
     "cell_type": "code",
     "collapsed": false,
     "input": [
      "p = np.array(list(x[0] for x in features[0]), dtype=np.float32)"
     ],
     "language": "python",
     "metadata": {},
     "outputs": [],
     "prompt_number": 92
    },
    {
     "cell_type": "code",
     "collapsed": false,
     "input": [
      "centre, axes, angle = cv2.fitEllipse(np.array([p]))"
     ],
     "language": "python",
     "metadata": {},
     "outputs": [],
     "prompt_number": 93
    },
    {
     "cell_type": "code",
     "collapsed": false,
     "input": [
      "print(centre, axes, angle)"
     ],
     "language": "python",
     "metadata": {},
     "outputs": [
      {
       "output_type": "stream",
       "stream": "stdout",
       "text": [
        "((252.7936553955078, 260.19390869140625), (342.70263671875, 369.29974365234375), 151.21946716308594)\n"
       ]
      }
     ],
     "prompt_number": 94
    },
    {
     "cell_type": "code",
     "collapsed": false,
     "input": [
      "clf()\n",
      "coin = np.array(coin_color, copy=True)\n",
      "cv2.ellipse(coin, tuple(int(x) for x in centre), tuple(int(x/2) for x in axes), angle, 0, 360, (0,0,255))\n",
      "imshow(coin[:,:,(2,1,0)])\n",
      "plot(p[:,0], p[:,1], 'x', mec=(0,1,0))\n",
      "axis('image')"
     ],
     "language": "python",
     "metadata": {},
     "outputs": [
      {
       "output_type": "pyout",
       "prompt_number": 101,
       "text": [
        "(-0.5, 511.5, 511.5, -0.5)"
       ]
      }
     ],
     "prompt_number": 101
    },
    {
     "cell_type": "code",
     "collapsed": false,
     "input": [
      "edges = cv2.Canny(coin_blur, 30, 100)"
     ],
     "language": "python",
     "metadata": {},
     "outputs": [],
     "prompt_number": 102
    },
    {
     "cell_type": "code",
     "collapsed": false,
     "input": [
      "clf()\n",
      "imshow(edges, cmap='gray')\n",
      "axis('image')"
     ],
     "language": "python",
     "metadata": {},
     "outputs": [
      {
       "output_type": "pyout",
       "prompt_number": 104,
       "text": [
        "(-0.5, 511.5, 511.5, -0.5)"
       ]
      }
     ],
     "prompt_number": 104
    },
    {
     "cell_type": "code",
     "collapsed": false,
     "input": [],
     "language": "python",
     "metadata": {},
     "outputs": []
    }
   ],
   "metadata": {}
  }
 ]
}