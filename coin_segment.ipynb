{
 "metadata": {
  "name": "coin_segment"
 },
 "nbformat": 3,
 "nbformat_minor": 0,
 "worksheets": [
  {
   "cells": [
    {
     "cell_type": "code",
     "collapsed": false,
     "input": [
      "import cv\n",
      "import cv2"
     ],
     "language": "python",
     "metadata": {},
     "outputs": [],
     "prompt_number": 2
    },
    {
     "cell_type": "code",
     "collapsed": false,
     "input": [
      "coin_color = cv2.imread('coin2.jpg')\n",
      "coin_gray = cv2.cvtColor(coin_color, cv.CV_RGB2GRAY)\n",
      "#coin_gray = cv2.resize(coin_gray, (coin_gray.shape[1]>>2, coin_gray.shape[0]>>2))"
     ],
     "language": "python",
     "metadata": {},
     "outputs": [],
     "prompt_number": 13
    },
    {
     "cell_type": "code",
     "collapsed": false,
     "input": [
      "# Calculate all shifts within a radius 3 circle\n",
      "radius = 3\n",
      "shifts = []\n",
      "for dx in range(-radius, radius+1):\n",
      "    for dy in range(-radius, radius+1):\n",
      "        d_sq = dx*dx + dy*dy\n",
      "        if d_sq > radius * radius:\n",
      "            continue\n",
      "        shifts.append((dx, dy))\n"
     ],
     "language": "python",
     "metadata": {},
     "outputs": [],
     "prompt_number": 14
    },
    {
     "cell_type": "code",
     "collapsed": false,
     "input": [
      "# Compute images shifted to by each window amount\n",
      "rolled_images = []\n",
      "for dx, dy in shifts:\n",
      "    coin_roll = np.roll(coin_gray, dy, 0)\n",
      "    coin_roll = np.roll(coin_roll, dx, 1)\n",
      "    rolled_images.append(coin_roll)\n",
      "coin_neighbours = np.dstack(rolled_images)"
     ],
     "language": "python",
     "metadata": {},
     "outputs": [],
     "prompt_number": 15
    },
    {
     "cell_type": "code",
     "collapsed": false,
     "input": [
      "# Calculate local range image\n",
      "coin_range = np.array(np.amax(coin_neighbours, 2) - np.amin(coin_neighbours, 2), dtype=np.float32)\n",
      "coin_range -= np.amin(coin_range)\n",
      "coin_range /= np.amax(coin_range)"
     ],
     "language": "python",
     "metadata": {},
     "outputs": [],
     "prompt_number": 16
    },
    {
     "cell_type": "code",
     "collapsed": false,
     "input": [
      "# Calculate the entropy image\n",
      "coin_entropy = np.zeros(coin_gray.shape, dtype=np.float32)\n",
      "for k in range(0, 256):\n",
      "    p_k = np.sum(coin_neighbours == k, axis=2) / float(coin_neighbours.shape[2])\n",
      "    coin_entropy += - np.where(p_k > 0, p_k * np.log(p_k), 0)\n",
      "coin_entropy -= np.amin(coin_entropy)\n",
      "coin_entropy /= np.amax(coin_entropy)"
     ],
     "language": "python",
     "metadata": {},
     "outputs": [],
     "prompt_number": "*"
    },
    {
     "cell_type": "code",
     "collapsed": false,
     "input": [
      "# Calculate the summed image\n",
      "coin_sum = coin_entropy + coin_range\n",
      "coin_sum -= np.amin(coin_sum)\n",
      "coin_sum /= np.amax(coin_sum)\n",
      "#imshow(coin_sum, cmap='jet')"
     ],
     "language": "python",
     "metadata": {},
     "outputs": [],
     "prompt_number": "*"
    },
    {
     "cell_type": "code",
     "collapsed": false,
     "input": [
      "best_threshold = 0\n",
      "best_contour = None\n",
      "best_form_factor = 0.0\n",
      "\n",
      "for threshold in np.arange(0.3, 0.65, 0.05):\n",
      "    # Find contours in thresholded image\n",
      "    contour_im = np.array(coin_sum >= threshold, dtype=np.uint8)\n",
      "    contours, _ = cv2.findContours(contour_im, mode=cv2.RETR_EXTERNAL, method=cv2.CHAIN_APPROX_SIMPLE)\n",
      "\n",
      "    # Find maximum area contour\n",
      "    areas = list(cv2.contourArea(c) for c in contours)\n",
      "    max_index = np.argmax(areas)\n",
      "\n",
      "    contour = contours[max_index]\n",
      "    area = areas[max_index]\n",
      "    perim = cv2.arcLength(contour, closed=True)\n",
      "    form_factor = 4.0 * np.pi * area / (perim * perim)\n",
      "    \n",
      "    if form_factor >= best_form_factor:\n",
      "        best_threshold = threshold\n",
      "        best_contour = contour\n",
      "        best_form_factor = form_factor\n",
      "        \n",
      "print('Best form factor = %s at threshold = %s' % (best_form_factor, best_threshold))"
     ],
     "language": "python",
     "metadata": {},
     "outputs": [],
     "prompt_number": "*"
    },
    {
     "cell_type": "code",
     "collapsed": false,
     "input": [
      "# Show contour\n",
      "clf()\n",
      "imshow(coin_gray, cmap='gray')\n",
      "fill(contour[:,0,0], contour[:,0,1], lw=0, fc=(0,0.5,0), alpha=0.5, closed=True)\n",
      "fill(contour[:,0,0], contour[:,0,1], lw=2, closed=True, fill=False, ec=(0,0,1))\n",
      "axis('image')"
     ],
     "language": "python",
     "metadata": {},
     "outputs": [],
     "prompt_number": "*"
    },
    {
     "cell_type": "code",
     "collapsed": false,
     "input": [],
     "language": "python",
     "metadata": {},
     "outputs": []
    }
   ],
   "metadata": {}
  }
 ]
}