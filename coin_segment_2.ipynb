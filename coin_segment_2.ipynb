{
 "metadata": {
  "name": "coin_segment_2"
 },
 "nbformat": 3,
 "nbformat_minor": 0,
 "worksheets": [
  {
   "cells": [
    {
     "cell_type": "code",
     "collapsed": false,
     "input": [
      "import cv\n",
      "import cv2\n",
      "import scipy.ndimage as ndi\n",
      "import scipy.stats as stats\n",
      "import os"
     ],
     "language": "python",
     "metadata": {},
     "outputs": [],
     "prompt_number": 472
    },
    {
     "cell_type": "code",
     "collapsed": false,
     "input": [
      "input_file_name = 'input/coin6.jpg'\n",
      "coin_color = cv2.imread(input_file_name)\n",
      "coin_gray = cv2.cvtColor(coin_color, cv.CV_RGB2GRAY)"
     ],
     "language": "python",
     "metadata": {},
     "outputs": [],
     "prompt_number": 486
    },
    {
     "cell_type": "code",
     "collapsed": false,
     "input": [
      "# Calculate all shifts within a radius 3 circle\n",
      "radius = 3\n",
      "footprint = np.zeros((2*radius+1, 2*radius+1), dtype=np.bool)\n",
      "for dx in range(-radius, radius+1):\n",
      "    for dy in range(-radius, radius+1):\n",
      "        d_sq = dx*dx + dy*dy\n",
      "        if d_sq > radius * radius:\n",
      "            continue\n",
      "        footprint[dx + radius, dy + radius] = True"
     ],
     "language": "python",
     "metadata": {},
     "outputs": [],
     "prompt_number": 474
    },
    {
     "cell_type": "code",
     "collapsed": false,
     "input": [
      "coin_max = ndi.maximum_filter(coin_gray, footprint=footprint)\n",
      "coin_min = ndi.minimum_filter(coin_gray, footprint=footprint)\n",
      "coin_local_range = coin_max - coin_min"
     ],
     "language": "python",
     "metadata": {},
     "outputs": [],
     "prompt_number": 475
    },
    {
     "cell_type": "code",
     "collapsed": false,
     "input": [
      "def norm_array(arr):\n",
      "    a1 = arr - float(np.amin(arr))\n",
      "    return a1 / np.amax(a1)\n",
      "\n",
      "coin_segment = norm_array(coin_local_range)"
     ],
     "language": "python",
     "metadata": {},
     "outputs": [],
     "prompt_number": 476
    },
    {
     "cell_type": "code",
     "collapsed": false,
     "input": [
      "best_threshold = 0\n",
      "best_contour = None\n",
      "best_form_factor = 0.0\n",
      "\n",
      "for threshold in np.arange(0.0, 0.6, 0.05):\n",
      "    # Find contours in thresholded image\n",
      "    contour_im = np.array(coin_segment >= threshold, dtype=np.uint8)\n",
      "    contours, _ = cv2.findContours(contour_im,\n",
      "        mode=cv2.RETR_EXTERNAL,\n",
      "        method=cv2.CHAIN_APPROX_SIMPLE)\n",
      "\n",
      "    # Replace contours with their convex hull\n",
      "    #contours = list(cv2.convexHull(c, returnPoints=True) for c in contours)\n",
      "    \n",
      "    # Find maximum area contour\n",
      "    areas = list(cv2.contourArea(c) for c in contours)\n",
      "    max_index = np.argmax(areas)\n",
      "\n",
      "    contour = contours[max_index]\n",
      "    area = areas[max_index]\n",
      "    perim = cv2.arcLength(contour, closed=True)\n",
      "    form_factor = 4.0 * np.pi * area / (perim * perim)\n",
      "    \n",
      "    if area > 0.9 * np.product(coin_segment.shape):\n",
      "        continue\n",
      "    \n",
      "    if form_factor >= best_form_factor:\n",
      "        best_threshold = threshold\n",
      "        best_contour = contour\n",
      "        best_form_factor = form_factor\n",
      "        \n",
      "print('Best form factor = %s at threshold = %s' % (best_form_factor, best_threshold))"
     ],
     "language": "python",
     "metadata": {},
     "outputs": [
      {
       "output_type": "stream",
       "stream": "stdout",
       "text": [
        "Best form factor = 0.88877601549 at threshold = 0.05\n"
       ]
      }
     ],
     "prompt_number": 477
    },
    {
     "cell_type": "code",
     "collapsed": false,
     "input": [
      "\n",
      "centre, rad = cv2.minEnclosingCircle(best_contour)"
     ],
     "language": "python",
     "metadata": {},
     "outputs": [],
     "prompt_number": 478
    },
    {
     "cell_type": "code",
     "collapsed": false,
     "input": [
      "# Find centre and radii of best-fit ellipse\n",
      "centre, axes, angle = cv2.fitEllipse(best_contour)\n",
      "rad = np.mean(axes) * 0.5"
     ],
     "language": "python",
     "metadata": {},
     "outputs": [],
     "prompt_number": 479
    },
    {
     "cell_type": "code",
     "collapsed": false,
     "input": [
      "# Work out dimensions of remapped imae\n",
      "polar_shape = (int(np.ceil(rad)), int(np.ceil(np.pi * rad)))"
     ],
     "language": "python",
     "metadata": {},
     "outputs": [],
     "prompt_number": 480
    },
    {
     "cell_type": "code",
     "collapsed": false,
     "input": [
      "# Get angle and radius image\n",
      "phi, r = np.meshgrid(\n",
      "    np.linspace(2.0*np.pi, 0, polar_shape[1], endpoint=False),\n",
      "    np.linspace(np.ceil(rad), 0, polar_shape[0])\n",
      ")"
     ],
     "language": "python",
     "metadata": {},
     "outputs": [],
     "prompt_number": 481
    },
    {
     "cell_type": "code",
     "collapsed": false,
     "input": [
      "# Compute X- and Y- image\n",
      "x = np.array(centre[0] + np.sin(phi) * r, dtype=np.float32)\n",
      "y = np.array(centre[1] + np.cos(phi) * r,  dtype=np.float32)"
     ],
     "language": "python",
     "metadata": {},
     "outputs": [],
     "prompt_number": 482
    },
    {
     "cell_type": "code",
     "collapsed": false,
     "input": [
      "coin_polar = cv2.remap(coin_gray, x, y, cv2.INTER_LINEAR)"
     ],
     "language": "python",
     "metadata": {},
     "outputs": [],
     "prompt_number": 483
    },
    {
     "cell_type": "code",
     "collapsed": false,
     "input": [
      "clf()\n",
      "\n",
      "# Show contour\n",
      "subplot(211)\n",
      "imshow(np.flipud(imread(input_file_name)))\n",
      "fill(best_contour[:,0,0], best_contour[:,0,1], lw=0, fc=(0,0.5,0), alpha=0.5, closed=True)\n",
      "fill(best_contour[:,0,0], best_contour[:,0,1], lw=2, closed=True, fill=False, ec=(0,0,1))\n",
      "axis('image')\n",
      "axis('off')\n",
      "title('Detected coin')\n",
      "\n",
      "# Show plar\n",
      "subplot(212)\n",
      "imshow(coin_polar, cmap='gray')\n",
      "axis('image')\n",
      "axis('off')\n",
      "title('Polar unwrap')\n",
      "\n",
      "output_filename = os.path.splitext(os.path.basename(input_file_name))[0] + '.detected.png'\n",
      "savefig(output_filename)"
     ],
     "language": "python",
     "metadata": {},
     "outputs": [],
     "prompt_number": 487
    },
    {
     "cell_type": "code",
     "collapsed": false,
     "input": [],
     "language": "python",
     "metadata": {},
     "outputs": []
    }
   ],
   "metadata": {}
  }
 ]
}